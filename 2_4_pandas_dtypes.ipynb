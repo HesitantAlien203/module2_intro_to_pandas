{
 "cells": [
  {
   "cell_type": "markdown",
   "metadata": {
    "slideshow": {
     "slide_type": "slide"
    }
   },
   "source": [
    "# `pandas dtypes` \n",
    "\n",
    "In [Section 1.1](./1_1_introduction_to_pandas.ipynb), we took our first look at the `pandas.DataFrame`.  In this section, we will take a closer look at `pandas` column types."
   ]
  },
  {
   "cell_type": "code",
   "execution_count": 1,
   "metadata": {
    "slideshow": {
     "slide_type": "fragment"
    }
   },
   "outputs": [],
   "source": [
    "import pandas as pd\n",
    "from dfply import *"
   ]
  },
  {
   "cell_type": "markdown",
   "metadata": {
    "slideshow": {
     "slide_type": "slide"
    }
   },
   "source": [
    "## Hiding stack traceback\n",
    "\n",
    "We hide the exception traceback for didactic reasons (code source: [see this post](https://stackoverflow.com/questions/46222753/how-do-i-suppress-tracebacks-in-jupyter)).  Don't run this cell if you want to see a full traceback."
   ]
  },
  {
   "cell_type": "code",
   "execution_count": 2,
   "metadata": {
    "slideshow": {
     "slide_type": "fragment"
    }
   },
   "outputs": [],
   "source": [
    "import sys\n",
    "ipython = get_ipython()\n",
    "\n",
    "def hide_traceback(exc_tuple=None, filename=None, tb_offset=None,\n",
    "                   exception_only=False, running_compiled_code=False):\n",
    "    etype, value, tb = sys.exc_info()\n",
    "    return ipython._showtraceback(etype, value, ipython.InteractiveTB.get_exception_only(etype, value))\n",
    "\n",
    "ipython.showtraceback = hide_traceback"
   ]
  },
  {
   "cell_type": "markdown",
   "metadata": {
    "slideshow": {
     "slide_type": "slide"
    }
   },
   "source": [
    "## Outline\n",
    "\n",
    "* Three more `dtypes`\n",
    "    * `datetime`\n",
    "    * `Int64`\n",
    "    * `category`\n",
    "* Setting the `dtypes` at read time."
   ]
  },
  {
   "cell_type": "markdown",
   "metadata": {
    "slideshow": {
     "slide_type": "slide"
    }
   },
   "source": [
    "## Integers with missing values\n",
    "\n",
    "* Older `pandas` $\\rightarrow$ no missing `int`\n",
    "    * Use `float` instead\n",
    "* Latest version $\\rightarrow$ `Int` classes\n",
    "    * Notice the capital `I`"
   ]
  },
  {
   "cell_type": "markdown",
   "metadata": {
    "slideshow": {
     "slide_type": "slide"
    }
   },
   "source": [
    "## Example - Artist `BeginDate` and `EndDate`"
   ]
  },
  {
   "cell_type": "code",
   "execution_count": 3,
   "metadata": {
    "scrolled": true,
    "slideshow": {
     "slide_type": "fragment"
    }
   },
   "outputs": [
    {
     "data": {
      "text/html": [
       "<div>\n",
       "<style scoped>\n",
       "    .dataframe tbody tr th:only-of-type {\n",
       "        vertical-align: middle;\n",
       "    }\n",
       "\n",
       "    .dataframe tbody tr th {\n",
       "        vertical-align: top;\n",
       "    }\n",
       "\n",
       "    .dataframe thead th {\n",
       "        text-align: right;\n",
       "    }\n",
       "</style>\n",
       "<table border=\"1\" class=\"dataframe\">\n",
       "  <thead>\n",
       "    <tr style=\"text-align: right;\">\n",
       "      <th></th>\n",
       "      <th>ConstituentID</th>\n",
       "      <th>DisplayName</th>\n",
       "      <th>ArtistBio</th>\n",
       "      <th>Nationality</th>\n",
       "      <th>Gender</th>\n",
       "      <th>BeginDate</th>\n",
       "      <th>EndDate</th>\n",
       "      <th>Wiki QID</th>\n",
       "      <th>ULAN</th>\n",
       "    </tr>\n",
       "  </thead>\n",
       "  <tbody>\n",
       "    <tr>\n",
       "      <th>0</th>\n",
       "      <td>1</td>\n",
       "      <td>Robert Arneson</td>\n",
       "      <td>American, 1930–1992</td>\n",
       "      <td>American</td>\n",
       "      <td>Male</td>\n",
       "      <td>1930</td>\n",
       "      <td>1992</td>\n",
       "      <td>NaN</td>\n",
       "      <td>NaN</td>\n",
       "    </tr>\n",
       "    <tr>\n",
       "      <th>1</th>\n",
       "      <td>2</td>\n",
       "      <td>Doroteo Arnaiz</td>\n",
       "      <td>Spanish, born 1936</td>\n",
       "      <td>Spanish</td>\n",
       "      <td>Male</td>\n",
       "      <td>1936</td>\n",
       "      <td>0</td>\n",
       "      <td>NaN</td>\n",
       "      <td>NaN</td>\n",
       "    </tr>\n",
       "    <tr>\n",
       "      <th>2</th>\n",
       "      <td>3</td>\n",
       "      <td>Bill Arnold</td>\n",
       "      <td>American, born 1941</td>\n",
       "      <td>American</td>\n",
       "      <td>Male</td>\n",
       "      <td>1941</td>\n",
       "      <td>0</td>\n",
       "      <td>NaN</td>\n",
       "      <td>NaN</td>\n",
       "    </tr>\n",
       "    <tr>\n",
       "      <th>3</th>\n",
       "      <td>4</td>\n",
       "      <td>Charles Arnoldi</td>\n",
       "      <td>American, born 1946</td>\n",
       "      <td>American</td>\n",
       "      <td>Male</td>\n",
       "      <td>1946</td>\n",
       "      <td>0</td>\n",
       "      <td>Q1063584</td>\n",
       "      <td>500027998.0</td>\n",
       "    </tr>\n",
       "    <tr>\n",
       "      <th>4</th>\n",
       "      <td>5</td>\n",
       "      <td>Per Arnoldi</td>\n",
       "      <td>Danish, born 1941</td>\n",
       "      <td>Danish</td>\n",
       "      <td>Male</td>\n",
       "      <td>1941</td>\n",
       "      <td>0</td>\n",
       "      <td>NaN</td>\n",
       "      <td>NaN</td>\n",
       "    </tr>\n",
       "  </tbody>\n",
       "</table>\n",
       "</div>"
      ],
      "text/plain": [
       "   ConstituentID      DisplayName            ArtistBio Nationality Gender  \\\n",
       "0              1   Robert Arneson  American, 1930–1992    American   Male   \n",
       "1              2   Doroteo Arnaiz   Spanish, born 1936     Spanish   Male   \n",
       "2              3      Bill Arnold  American, born 1941    American   Male   \n",
       "3              4  Charles Arnoldi  American, born 1946    American   Male   \n",
       "4              5      Per Arnoldi    Danish, born 1941      Danish   Male   \n",
       "\n",
       "   BeginDate  EndDate  Wiki QID         ULAN  \n",
       "0       1930     1992       NaN          NaN  \n",
       "1       1936        0       NaN          NaN  \n",
       "2       1941        0       NaN          NaN  \n",
       "3       1946        0  Q1063584  500027998.0  \n",
       "4       1941        0       NaN          NaN  "
      ]
     },
     "execution_count": 3,
     "metadata": {},
     "output_type": "execute_result"
    }
   ],
   "source": [
    "artist = pd.read_csv('./data/Artists.csv')\n",
    "artist.head()"
   ]
  },
  {
   "cell_type": "markdown",
   "metadata": {
    "slideshow": {
     "slide_type": "slide"
    }
   },
   "source": [
    "## There are lots of `0`s in the `BeginDate` \n",
    "\n",
    "Do we really think the Museam of **Modern** Art has artists from 0AD?"
   ]
  },
  {
   "cell_type": "code",
   "execution_count": 4,
   "metadata": {
    "slideshow": {
     "slide_type": "fragment"
    }
   },
   "outputs": [
    {
     "data": {
      "text/plain": [
       "<matplotlib.axes._subplots.AxesSubplot at 0x7fc857aa7d90>"
      ]
     },
     "execution_count": 4,
     "metadata": {},
     "output_type": "execute_result"
    },
    {
     "data": {
      "image/png": "[encoded data removed]",
      "text/plain": [
       "<Figure size 432x288 with 1 Axes>"
      ]
     },
     "metadata": {
      "needs_background": "light"
     },
     "output_type": "display_data"
    }
   ],
   "source": [
    "import matplotlib.pylab as plt\n",
    "%matplotlib inline\n",
    "artist.BeginDate.hist(bins=50)"
   ]
  },
  {
   "cell_type": "markdown",
   "metadata": {
    "slideshow": {
     "slide_type": "slide"
    }
   },
   "source": [
    "## Same problem with `EndDate`, but even more so"
   ]
  },
  {
   "cell_type": "code",
   "execution_count": 5,
   "metadata": {
    "slideshow": {
     "slide_type": "slide"
    }
   },
   "outputs": [
    {
     "data": {
      "text/plain": [
       "<matplotlib.axes._subplots.AxesSubplot at 0x7fc8571e2390>"
      ]
     },
     "execution_count": 5,
     "metadata": {},
     "output_type": "execute_result"
    },
    {
     "data": {
      "image/png": "[encoded data removed]",
      "text/plain": [
       "<Figure size 432x288 with 1 Axes>"
      ]
     },
     "metadata": {
      "needs_background": "light"
     },
     "output_type": "display_data"
    }
   ],
   "source": [
    "artist.EndDate.hist(bins=50)"
   ]
  },
  {
   "cell_type": "markdown",
   "metadata": {
    "slideshow": {
     "slide_type": "slide"
    }
   },
   "source": [
    "## Using `apply` to remove the `0`s"
   ]
  },
  {
   "cell_type": "code",
   "execution_count": 6,
   "metadata": {
    "scrolled": true,
    "slideshow": {
     "slide_type": "fragment"
    }
   },
   "outputs": [
    {
     "data": {
      "text/plain": [
       "0    1930.0\n",
       "1    1936.0\n",
       "2    1941.0\n",
       "3    1946.0\n",
       "4    1941.0\n",
       "Name: BeginDate, dtype: float64"
      ]
     },
     "execution_count": 6,
     "metadata": {},
     "output_type": "execute_result"
    }
   ],
   "source": [
    "transformed_BD = artist.BeginDate.apply(lambda val: np.nan if val == 0 else val)\n",
    "transformed_BD.head()"
   ]
  },
  {
   "cell_type": "markdown",
   "metadata": {
    "slideshow": {
     "slide_type": "slide"
    }
   },
   "source": [
    "## What's up with the `float dtype`?\n",
    "\n",
    "Good question, let's find out."
   ]
  },
  {
   "cell_type": "markdown",
   "metadata": {
    "slideshow": {
     "slide_type": "slide"
    }
   },
   "source": [
    "## Converting transformed `BeginDate` - attempt 1\n",
    "\n",
    "Let's try to convert the `BeginDate` to `int`"
   ]
  },
  {
   "cell_type": "code",
   "execution_count": 7,
   "metadata": {
    "slideshow": {
     "slide_type": "fragment"
    }
   },
   "outputs": [
    {
     "ename": "ValueError",
     "evalue": "Cannot convert non-finite values (NA or inf) to integer",
     "output_type": "error",
     "traceback": [
      "\u001b[0;31mValueError\u001b[0m\u001b[0;31m:\u001b[0m Cannot convert non-finite values (NA or inf) to integer\n"
     ]
    }
   ],
   "source": [
    "transformed_BD.astype('int')"
   ]
  },
  {
   "cell_type": "markdown",
   "metadata": {
    "slideshow": {
     "slide_type": "slide"
    }
   },
   "source": [
    "## `pandas`, `int` and `np.nan` don't mix\n",
    "\n",
    "* `pandas` `int` columns **cannot** have missing\n",
    "* `pd.__version__ == 0.24.1` fixes this\n",
    "    * Use `Int64` for integers with missing values\n",
    "    * Note the capital `I`\n",
    "* Update with `!pip install --upgrade pandas`"
   ]
  },
  {
   "cell_type": "code",
   "execution_count": 8,
   "metadata": {
    "slideshow": {
     "slide_type": "fragment"
    }
   },
   "outputs": [],
   "source": [
    "assert pd.__version__.startswith('1') or pd.__version__.startswith('0.24'), \"Please upgrade your pandas and restart jupyter\"\n",
    "#!pip install --upgrade pandas"
   ]
  },
  {
   "cell_type": "code",
   "execution_count": null,
   "metadata": {},
   "outputs": [],
   "source": []
  },
  {
   "cell_type": "markdown",
   "metadata": {
    "slideshow": {
     "slide_type": "slide"
    }
   },
   "source": [
    "## Converting `BeginDate` to `Int64`\n",
    "\n",
    "Hmm, that returned a `float` column.  Let's try to force `Int64`"
   ]
  },
  {
   "cell_type": "code",
   "execution_count": 9,
   "metadata": {
    "scrolled": true,
    "slideshow": {
     "slide_type": "fragment"
    }
   },
   "outputs": [
    {
     "data": {
      "text/plain": [
       "0     1930\n",
       "1     1936\n",
       "2     1941\n",
       "3     1946\n",
       "4     1941\n",
       "5     1925\n",
       "6     1941\n",
       "7     1923\n",
       "8     1918\n",
       "9     1886\n",
       "10    1936\n",
       "11    1911\n",
       "12    1907\n",
       "13    1900\n",
       "14    <NA>\n",
       "Name: BeginDate, dtype: Int64"
      ]
     },
     "execution_count": 9,
     "metadata": {},
     "output_type": "execute_result"
    }
   ],
   "source": [
    "transformed_BD.astype('Int64').head(15) # There we go!"
   ]
  },
  {
   "cell_type": "markdown",
   "metadata": {
    "slideshow": {
     "slide_type": "slide"
    }
   },
   "source": [
    "## Downloading the 538 Uber FOIA data\n",
    "\n",
    "The [Uber dataset from 538](https://github.com/fivethirtyeight/uber-tlc-foil-response) is too large to include in this module's repository.  If you haven't already downloaded the Uber data, execute the following."
   ]
  },
  {
   "cell_type": "code",
   "execution_count": 11,
   "metadata": {
    "slideshow": {
     "slide_type": "fragment"
    }
   },
   "outputs": [
    {
     "name": "stdout",
     "output_type": "stream",
     "text": [
      "Cloning into './data/uber'...\n",
      "remote: Enumerating objects: 58, done.\u001b[K\n",
      "remote: Total 58 (delta 0), reused 0 (delta 0), pack-reused 58\u001b[K\n",
      "Unpacking objects: 100% (58/58), done.\n",
      "Checking out files: 100% (26/26), done.\n"
     ]
    }
   ],
   "source": [
    "!git clone https://github.com/fivethirtyeight/uber-tlc-foil-response ./data/uber"
   ]
  },
  {
   "cell_type": "markdown",
   "metadata": {
    "slideshow": {
     "slide_type": "slide"
    }
   },
   "source": [
    "## Example 2 - Uber rides\n",
    "\n",
    "**Source:** [FiveThirtyEight Uber data](https://github.com/fivethirtyeight/uber-tlc-foil-response)\n",
    "\n",
    "**Note:** The actual data is pretty large, which we will deal with in the next section.  For now, we will load a subset (first 1000 rows)."
   ]
  },
  {
   "cell_type": "code",
   "execution_count": 12,
   "metadata": {
    "slideshow": {
     "slide_type": "fragment"
    }
   },
   "outputs": [
    {
     "data": {
      "text/html": [
       "<div>\n",
       "<style scoped>\n",
       "    .dataframe tbody tr th:only-of-type {\n",
       "        vertical-align: middle;\n",
       "    }\n",
       "\n",
       "    .dataframe tbody tr th {\n",
       "        vertical-align: top;\n",
       "    }\n",
       "\n",
       "    .dataframe thead th {\n",
       "        text-align: right;\n",
       "    }\n",
       "</style>\n",
       "<table border=\"1\" class=\"dataframe\">\n",
       "  <thead>\n",
       "    <tr style=\"text-align: right;\">\n",
       "      <th></th>\n",
       "      <th>Date/Time</th>\n",
       "      <th>Lat</th>\n",
       "      <th>Lon</th>\n",
       "      <th>Base</th>\n",
       "    </tr>\n",
       "  </thead>\n",
       "  <tbody>\n",
       "    <tr>\n",
       "      <th>0</th>\n",
       "      <td>4/1/2014 0:11:00</td>\n",
       "      <td>40.7690</td>\n",
       "      <td>-73.9549</td>\n",
       "      <td>B02512</td>\n",
       "    </tr>\n",
       "    <tr>\n",
       "      <th>1</th>\n",
       "      <td>4/1/2014 0:17:00</td>\n",
       "      <td>40.7267</td>\n",
       "      <td>-74.0345</td>\n",
       "      <td>B02512</td>\n",
       "    </tr>\n",
       "    <tr>\n",
       "      <th>2</th>\n",
       "      <td>4/1/2014 0:21:00</td>\n",
       "      <td>40.7316</td>\n",
       "      <td>-73.9873</td>\n",
       "      <td>B02512</td>\n",
       "    </tr>\n",
       "    <tr>\n",
       "      <th>3</th>\n",
       "      <td>4/1/2014 0:28:00</td>\n",
       "      <td>40.7588</td>\n",
       "      <td>-73.9776</td>\n",
       "      <td>B02512</td>\n",
       "    </tr>\n",
       "    <tr>\n",
       "      <th>4</th>\n",
       "      <td>4/1/2014 0:33:00</td>\n",
       "      <td>40.7594</td>\n",
       "      <td>-73.9722</td>\n",
       "      <td>B02512</td>\n",
       "    </tr>\n",
       "  </tbody>\n",
       "</table>\n",
       "</div>"
      ],
      "text/plain": [
       "          Date/Time      Lat      Lon    Base\n",
       "0  4/1/2014 0:11:00  40.7690 -73.9549  B02512\n",
       "1  4/1/2014 0:17:00  40.7267 -74.0345  B02512\n",
       "2  4/1/2014 0:21:00  40.7316 -73.9873  B02512\n",
       "3  4/1/2014 0:28:00  40.7588 -73.9776  B02512\n",
       "4  4/1/2014 0:33:00  40.7594 -73.9722  B02512"
      ]
     },
     "execution_count": 12,
     "metadata": {},
     "output_type": "execute_result"
    }
   ],
   "source": [
    "uber_april_raw = pd.read_csv(\"./data/uber/uber-trip-data/uber-raw-data-apr14.csv\")\n",
    "uber_april_raw.head()"
   ]
  },
  {
   "cell_type": "markdown",
   "metadata": {
    "slideshow": {
     "slide_type": "slide"
    }
   },
   "source": [
    "## <font color=\"red\"> Exercise 1</font>\n",
    "\n",
    "Fix the names.  Be sure to rename the `\"Date/Time\"` `'date'` and name the resulting data frame `uber_april_renamed`."
   ]
  },
  {
   "cell_type": "code",
   "execution_count": 17,
   "metadata": {
    "slideshow": {
     "slide_type": "fragment"
    }
   },
   "outputs": [],
   "source": [
    "# Your code here\n",
    "uber_april_renamed = uber_april_raw.rename(columns= {'Date/Time':'date'})\n"
   ]
  },
  {
   "cell_type": "markdown",
   "metadata": {
    "slideshow": {
     "slide_type": "slide"
    }
   },
   "source": [
    "## <font color=\"red\"> Exercise 2</font>\n",
    "\n",
    "**Tasks:**\n",
    "\n",
    "1. Inspect the `dtypes`\n",
    "2. Suggest a good type for the `date` column"
   ]
  },
  {
   "cell_type": "code",
   "execution_count": 19,
   "metadata": {
    "slideshow": {
     "slide_type": "fragment"
    }
   },
   "outputs": [
    {
     "data": {
      "text/plain": [
       "date     object\n",
       "Lat     float64\n",
       "Lon     float64\n",
       "Base     object\n",
       "dtype: object"
      ]
     },
     "execution_count": 19,
     "metadata": {},
     "output_type": "execute_result"
    }
   ],
   "source": [
    "# Your code here\n",
    "uber_april_renamed.dtypes"
   ]
  },
  {
   "cell_type": "markdown",
   "metadata": {
    "slideshow": {
     "slide_type": "fragment"
    }
   },
   "source": [
    "> *Your answer here*\n",
    "I think that datetime would be a good type for the date column"
   ]
  },
  {
   "cell_type": "markdown",
   "metadata": {
    "slideshow": {
     "slide_type": "slide"
    }
   },
   "source": [
    "## Changing to date type with  `pd.to_datetime`"
   ]
  },
  {
   "cell_type": "code",
   "execution_count": 21,
   "metadata": {
    "slideshow": {
     "slide_type": "fragment"
    }
   },
   "outputs": [
    {
     "data": {
      "text/plain": [
       "0   2014-04-01 00:11:00\n",
       "1   2014-04-01 00:17:00\n",
       "2   2014-04-01 00:21:00\n",
       "3   2014-04-01 00:28:00\n",
       "4   2014-04-01 00:33:00\n",
       "Name: date, dtype: datetime64[ns]"
      ]
     },
     "execution_count": 21,
     "metadata": {},
     "output_type": "execute_result"
    }
   ],
   "source": [
    "pd.to_datetime(uber_april_renamed.date.head())"
   ]
  },
  {
   "cell_type": "markdown",
   "metadata": {
    "slideshow": {
     "slide_type": "slide"
    }
   },
   "source": [
    "## Making a `dfply` compatible column function.\n",
    "\n",
    "Suppose you have a function you want to use inside `mutate` (i.e. a **column function**).  To make this function compatable with `dfply.Intention`s, you should \n",
    "\n",
    "1. Wrap the `pandas` call inside a function.\n",
    "2. Decorate with `@make_symbolic`"
   ]
  },
  {
   "cell_type": "code",
   "execution_count": 22,
   "metadata": {
    "slideshow": {
     "slide_type": "fragment"
    }
   },
   "outputs": [],
   "source": [
    "@make_symbolic\n",
    "def to_datetime(series, infer_datetime_format=True):\n",
    "    return pd.to_datetime(series, infer_datetime_format=infer_datetime_format)"
   ]
  },
  {
   "cell_type": "markdown",
   "metadata": {
    "slideshow": {
     "slide_type": "slide"
    }
   },
   "source": [
    "## Converting to dates with `dfply`\n",
    "\n",
    "Note that above function is available in `more_dfply.to_datetime` is a `dfply` compatible version of `pd.to_datetime`."
   ]
  },
  {
   "cell_type": "code",
   "execution_count": 23,
   "metadata": {
    "scrolled": false
   },
   "outputs": [
    {
     "name": "stdout",
     "output_type": "stream",
     "text": [
      "Collecting more_dfply\n",
      "  Downloading more_dfply-0.2.10-py3-none-any.whl (5.8 kB)\n",
      "Collecting composable<0.3.0,>=0.2.5\n",
      "  Downloading composable-0.2.5-py3-none-any.whl (7.3 kB)\n",
      "Requirement already satisfied: dfply<0.4.0,>=0.3.3 in /home/mcleodgunne/.pyenv/versions/anaconda3-2020.02/lib/python3.7/site-packages (from more_dfply) (0.3.3)\n",
      "Collecting toolz<0.12.0,>=0.11.1\n",
      "  Downloading toolz-0.11.2-py3-none-any.whl (55 kB)\n",
      "\u001b[K     |████████████████████████████████| 55 kB 1.5 MB/s eta 0:00:01\n",
      "\u001b[?25hCollecting python-forge<19.0,>=18.6\n",
      "  Downloading python_forge-18.6.0-py35-none-any.whl (31 kB)\n",
      "Requirement already satisfied: pandas in /home/mcleodgunne/.pyenv/versions/anaconda3-2020.02/lib/python3.7/site-packages (from dfply<0.4.0,>=0.3.3->more_dfply) (1.0.1)\n",
      "Requirement already satisfied: numpy in /home/mcleodgunne/.pyenv/versions/anaconda3-2020.02/lib/python3.7/site-packages (from dfply<0.4.0,>=0.3.3->more_dfply) (1.18.1)\n",
      "Requirement already satisfied: python-dateutil>=2.6.1 in /home/mcleodgunne/.pyenv/versions/anaconda3-2020.02/lib/python3.7/site-packages (from pandas->dfply<0.4.0,>=0.3.3->more_dfply) (2.8.1)\n",
      "Requirement already satisfied: pytz>=2017.2 in /home/mcleodgunne/.pyenv/versions/anaconda3-2020.02/lib/python3.7/site-packages (from pandas->dfply<0.4.0,>=0.3.3->more_dfply) (2019.3)\n",
      "Requirement already satisfied: six>=1.5 in /home/mcleodgunne/.pyenv/versions/anaconda3-2020.02/lib/python3.7/site-packages (from python-dateutil>=2.6.1->pandas->dfply<0.4.0,>=0.3.3->more_dfply) (1.14.0)\n",
      "Installing collected packages: toolz, python-forge, composable, more-dfply\n",
      "  Attempting uninstall: toolz\n",
      "    Found existing installation: toolz 0.10.0\n",
      "    Uninstalling toolz-0.10.0:\n",
      "      Successfully uninstalled toolz-0.10.0\n",
      "Successfully installed composable-0.2.5 more-dfply-0.2.10 python-forge-18.6.0 toolz-0.11.2\n"
     ]
    }
   ],
   "source": [
    "!pip install more_dfply"
   ]
  },
  {
   "cell_type": "code",
   "execution_count": 25,
   "metadata": {
    "slideshow": {
     "slide_type": "fragment"
    }
   },
   "outputs": [
    {
     "data": {
      "text/plain": [
       "date    datetime64[ns]\n",
       "Lat            float64\n",
       "Lon            float64\n",
       "Base            object\n",
       "dtype: object"
      ]
     },
     "execution_count": 25,
     "metadata": {},
     "output_type": "execute_result"
    }
   ],
   "source": [
    "from more_dfply import to_datetime\n",
    "uber_april = (uber_april_renamed >>\n",
    "                mutate(date = to_datetime(X.date)))\n",
    "uber_april.dtypes"
   ]
  },
  {
   "cell_type": "markdown",
   "metadata": {
    "slideshow": {
     "slide_type": "slide"
    }
   },
   "source": [
    "## Why convert to `datetime`?\n",
    "\n",
    "This series type provides many useful date methods and attributes.  For example, we get many **dateparts methods** in the `dt` attribute."
   ]
  },
  {
   "cell_type": "code",
   "execution_count": 26,
   "metadata": {
    "slideshow": {
     "slide_type": "slide"
    }
   },
   "outputs": [
    {
     "data": {
      "text/html": [
       "<div>\n",
       "<style scoped>\n",
       "    .dataframe tbody tr th:only-of-type {\n",
       "        vertical-align: middle;\n",
       "    }\n",
       "\n",
       "    .dataframe tbody tr th {\n",
       "        vertical-align: top;\n",
       "    }\n",
       "\n",
       "    .dataframe thead th {\n",
       "        text-align: right;\n",
       "    }\n",
       "</style>\n",
       "<table border=\"1\" class=\"dataframe\">\n",
       "  <thead>\n",
       "    <tr style=\"text-align: right;\">\n",
       "      <th></th>\n",
       "      <th>date</th>\n",
       "      <th>Lat</th>\n",
       "      <th>Lon</th>\n",
       "      <th>Base</th>\n",
       "      <th>weekday</th>\n",
       "    </tr>\n",
       "  </thead>\n",
       "  <tbody>\n",
       "    <tr>\n",
       "      <th>0</th>\n",
       "      <td>2014-04-01 00:11:00</td>\n",
       "      <td>40.7690</td>\n",
       "      <td>-73.9549</td>\n",
       "      <td>B02512</td>\n",
       "      <td>Tuesday</td>\n",
       "    </tr>\n",
       "    <tr>\n",
       "      <th>1</th>\n",
       "      <td>2014-04-01 00:17:00</td>\n",
       "      <td>40.7267</td>\n",
       "      <td>-74.0345</td>\n",
       "      <td>B02512</td>\n",
       "      <td>Tuesday</td>\n",
       "    </tr>\n",
       "    <tr>\n",
       "      <th>2</th>\n",
       "      <td>2014-04-01 00:21:00</td>\n",
       "      <td>40.7316</td>\n",
       "      <td>-73.9873</td>\n",
       "      <td>B02512</td>\n",
       "      <td>Tuesday</td>\n",
       "    </tr>\n",
       "    <tr>\n",
       "      <th>3</th>\n",
       "      <td>2014-04-01 00:28:00</td>\n",
       "      <td>40.7588</td>\n",
       "      <td>-73.9776</td>\n",
       "      <td>B02512</td>\n",
       "      <td>Tuesday</td>\n",
       "    </tr>\n",
       "    <tr>\n",
       "      <th>4</th>\n",
       "      <td>2014-04-01 00:33:00</td>\n",
       "      <td>40.7594</td>\n",
       "      <td>-73.9722</td>\n",
       "      <td>B02512</td>\n",
       "      <td>Tuesday</td>\n",
       "    </tr>\n",
       "  </tbody>\n",
       "</table>\n",
       "</div>"
      ],
      "text/plain": [
       "                 date      Lat      Lon    Base  weekday\n",
       "0 2014-04-01 00:11:00  40.7690 -73.9549  B02512  Tuesday\n",
       "1 2014-04-01 00:17:00  40.7267 -74.0345  B02512  Tuesday\n",
       "2 2014-04-01 00:21:00  40.7316 -73.9873  B02512  Tuesday\n",
       "3 2014-04-01 00:28:00  40.7588 -73.9776  B02512  Tuesday\n",
       "4 2014-04-01 00:33:00  40.7594 -73.9722  B02512  Tuesday"
      ]
     },
     "execution_count": 26,
     "metadata": {},
     "output_type": "execute_result"
    }
   ],
   "source": [
    "uber_april_weekday = (uber_april  >>\n",
    "                        mutate(weekday = X.date.dt.day_name()))\n",
    "uber_april_weekday.head()"
   ]
  },
  {
   "cell_type": "markdown",
   "metadata": {
    "slideshow": {
     "slide_type": "slide"
    }
   },
   "source": [
    "## <font color=\"red\"> Exercise 3</font>\n",
    "\n",
    "**Tasks:**\n",
    "\n",
    "1. Use `dir` to inspect the dateparts found in `dt`\n",
    "2. Add a few more datepart columns.\n",
    "3. Name the resulting dataframe `uber_april_datepart`"
   ]
  },
  {
   "cell_type": "code",
   "execution_count": 43,
   "metadata": {
    "slideshow": {
     "slide_type": "fragment"
    }
   },
   "outputs": [
    {
     "ename": "TypeError",
     "evalue": "'Series' object is not callable",
     "output_type": "error",
     "traceback": [
      "\u001b[0;31mTypeError\u001b[0m\u001b[0;31m:\u001b[0m 'Series' object is not callable\n"
     ]
    }
   ],
   "source": [
    "# Your code here\n",
    "uber_april_weekday = (uber_april  >>\n",
    "                        mutate(weekday = X.date.dt.day_name()))\n",
    "uber_april_weekday.head()"
   ]
  },
  {
   "cell_type": "markdown",
   "metadata": {
    "slideshow": {
     "slide_type": "fragment"
    }
   },
   "source": [
    "> *Your answer here*"
   ]
  },
  {
   "cell_type": "markdown",
   "metadata": {
    "slideshow": {
     "slide_type": "slide"
    }
   },
   "source": [
    "## Specifying date columns while reading\n",
    "\n",
    "Pass a list of date columns to `parse_dates`"
   ]
  },
  {
   "cell_type": "code",
   "execution_count": 44,
   "metadata": {
    "scrolled": true,
    "slideshow": {
     "slide_type": "fragment"
    }
   },
   "outputs": [
    {
     "data": {
      "text/plain": [
       "Date/Time    datetime64[ns]\n",
       "Lat                 float64\n",
       "Lon                 float64\n",
       "Base                 object\n",
       "dtype: object"
      ]
     },
     "execution_count": 44,
     "metadata": {},
     "output_type": "execute_result"
    }
   ],
   "source": [
    "from toolz import first\n",
    "uber_april_with_datetime = pd.read_csv(\"./data/uber/uber-trip-data/uber-raw-data-apr14.csv\", \n",
    "                                       parse_dates=['Date/Time'])\n",
    "\n",
    "uber_april_with_datetime.dtypes"
   ]
  },
  {
   "cell_type": "markdown",
   "metadata": {
    "slideshow": {
     "slide_type": "slide"
    }
   },
   "source": [
    "## Explicit date parsing\n",
    "\n",
    "* Create a parser function\n",
    "* Pass to `date_parser`\n",
    "* Use if `pandas` fails to parse\n",
    "* More information about format codes [here](https://docs.python.org/2/library/datetime.html#strftime-strptime-behavior)"
   ]
  },
  {
   "cell_type": "code",
   "execution_count": 46,
   "metadata": {
    "scrolled": true,
    "slideshow": {
     "slide_type": "fragment"
    }
   },
   "outputs": [
    {
     "name": "stderr",
     "output_type": "stream",
     "text": [
      "ERROR:root:Internal Python error in the inspect module.\n",
      "Below is the traceback from this internal error.\n",
      "\n"
     ]
    },
    {
     "name": "stdout",
     "output_type": "stream",
     "text": [
      "Traceback (most recent call last):\n",
      "  File \"/home/mcleodgunne/.pyenv/versions/anaconda3-2020.02/lib/python3.7/site-packages/pandas/core/arrays/datetimes.py\", line 1856, in objects_to_datetime64ns\n",
      "    values, tz_parsed = conversion.datetime_to_datetime64(data)\n",
      "  File \"pandas/_libs/tslibs/conversion.pyx\", line 200, in pandas._libs.tslibs.conversion.datetime_to_datetime64\n",
      "TypeError: Unrecognized value type: <class 'str'>\n",
      "\n",
      "During handling of the above exception, another exception occurred:\n",
      "\n",
      "Traceback (most recent call last):\n",
      "  File \"/home/mcleodgunne/.pyenv/versions/anaconda3-2020.02/lib/python3.7/site-packages/IPython/core/interactiveshell.py\", line 3331, in run_code\n",
      "    exec(code_obj, self.user_global_ns, self.user_ns)\n",
      "  File \"<ipython-input-46-9c6ba92ecd13>\", line 4, in <module>\n",
      "    date_parser=dateparse)\n",
      "  File \"/home/mcleodgunne/.pyenv/versions/anaconda3-2020.02/lib/python3.7/site-packages/pandas/io/parsers.py\", line 676, in parser_f\n",
      "    return _read(filepath_or_buffer, kwds)\n",
      "  File \"/home/mcleodgunne/.pyenv/versions/anaconda3-2020.02/lib/python3.7/site-packages/pandas/io/parsers.py\", line 454, in _read\n",
      "    data = parser.read(nrows)\n",
      "  File \"/home/mcleodgunne/.pyenv/versions/anaconda3-2020.02/lib/python3.7/site-packages/pandas/io/parsers.py\", line 1133, in read\n",
      "    ret = self._engine.read(nrows)\n",
      "  File \"/home/mcleodgunne/.pyenv/versions/anaconda3-2020.02/lib/python3.7/site-packages/pandas/io/parsers.py\", line 2112, in read\n",
      "    names, data = self._do_date_conversions(names, data)\n",
      "  File \"/home/mcleodgunne/.pyenv/versions/anaconda3-2020.02/lib/python3.7/site-packages/pandas/io/parsers.py\", line 1853, in _do_date_conversions\n",
      "    keep_date_col=self.keep_date_col,\n",
      "  File \"/home/mcleodgunne/.pyenv/versions/anaconda3-2020.02/lib/python3.7/site-packages/pandas/io/parsers.py\", line 3291, in _process_date_conversion\n",
      "    data_dict[colspec] = converter(data_dict[colspec])\n",
      "  File \"/home/mcleodgunne/.pyenv/versions/anaconda3-2020.02/lib/python3.7/site-packages/pandas/io/parsers.py\", line 3253, in converter\n",
      "    return generic_parser(date_parser, *date_cols)\n",
      "  File \"/home/mcleodgunne/.pyenv/versions/anaconda3-2020.02/lib/python3.7/site-packages/pandas/io/date_converters.py\", line 38, in generic_parser\n",
      "    results[i] = parse_func(*args)\n",
      "  File \"<ipython-input-46-9c6ba92ecd13>\", line 1, in <lambda>\n",
      "    dateparse = lambda x: pd.to_datetime(x, format = \"%Y-%m-%d %H:%M:%S\")\n",
      "  File \"/home/mcleodgunne/.pyenv/versions/anaconda3-2020.02/lib/python3.7/site-packages/pandas/core/tools/datetimes.py\", line 756, in to_datetime\n",
      "    result = convert_listlike(np.array([arg]), format)[0]\n",
      "  File \"/home/mcleodgunne/.pyenv/versions/anaconda3-2020.02/lib/python3.7/site-packages/pandas/core/tools/datetimes.py\", line 447, in _convert_listlike_datetimes\n",
      "    allow_object=True,\n",
      "  File \"/home/mcleodgunne/.pyenv/versions/anaconda3-2020.02/lib/python3.7/site-packages/pandas/core/arrays/datetimes.py\", line 1861, in objects_to_datetime64ns\n",
      "    raise e\n",
      "  File \"/home/mcleodgunne/.pyenv/versions/anaconda3-2020.02/lib/python3.7/site-packages/pandas/core/arrays/datetimes.py\", line 1852, in objects_to_datetime64ns\n",
      "    require_iso8601=require_iso8601,\n",
      "  File \"pandas/_libs/tslib.pyx\", line 481, in pandas._libs.tslib.array_to_datetime\n",
      "  File \"pandas/_libs/tslib.pyx\", line 620, in pandas._libs.tslib.array_to_datetime\n",
      "ValueError: time data 4/1/2014 0:11:00 doesn't match format specified\n",
      "\n",
      "During handling of the above exception, another exception occurred:\n",
      "\n",
      "Traceback (most recent call last):\n",
      "  File \"/home/mcleodgunne/.pyenv/versions/anaconda3-2020.02/lib/python3.7/site-packages/IPython/core/ultratb.py\", line 1151, in get_records\n",
      "    return _fixed_getinnerframes(etb, number_of_lines_of_context, tb_offset)\n",
      "  File \"/home/mcleodgunne/.pyenv/versions/anaconda3-2020.02/lib/python3.7/site-packages/IPython/core/ultratb.py\", line 319, in wrapped\n",
      "    return f(*args, **kwargs)\n",
      "  File \"/home/mcleodgunne/.pyenv/versions/anaconda3-2020.02/lib/python3.7/site-packages/IPython/core/ultratb.py\", line 353, in _fixed_getinnerframes\n",
      "    records = fix_frame_records_filenames(inspect.getinnerframes(etb, context))\n",
      "  File \"/home/mcleodgunne/.pyenv/versions/anaconda3-2020.02/lib/python3.7/inspect.py\", line 1502, in getinnerframes\n",
      "    frameinfo = (tb.tb_frame,) + getframeinfo(tb, context)\n",
      "AttributeError: 'tuple' object has no attribute 'tb_frame'\n"
     ]
    },
    {
     "ename": "ValueError",
     "evalue": "time data 4/1/2014 0:11:00 doesn't match format specified",
     "output_type": "error",
     "traceback": [
      "\u001b[0;31m---------------------------------------------------------------------------\u001b[0m",
      "\nDuring handling of the above exception, another exception occurred:\n",
      "\u001b[0;31mValueError\u001b[0m\u001b[0;31m:\u001b[0m time data 4/1/2014 0:11:00 doesn't match format specified\n"
     ]
    }
   ],
   "source": [
    "dateparse = lambda x: pd.to_datetime(x, format = \"%Y-%m-%d %H:%M:%S\")\n",
    "uber_april_parsered = pd.read_csv('./data/uber/uber-trip-data/uber-raw-data-apr14.csv', \n",
    "                              parse_dates=['Date/Time'],\n",
    "                              date_parser=dateparse)\n",
    "uber_april_parsered.head()"
   ]
  },
  {
   "cell_type": "markdown",
   "metadata": {
    "slideshow": {
     "slide_type": "slide"
    }
   },
   "source": [
    "## Categorical dtype\n",
    "\n",
    "* Similar to `R`s factor\n",
    "* Allows for nominal or ordinal categories"
   ]
  },
  {
   "cell_type": "code",
   "execution_count": 47,
   "metadata": {
    "scrolled": false,
    "slideshow": {
     "slide_type": "fragment"
    }
   },
   "outputs": [
    {
     "data": {
      "text/plain": [
       "date       datetime64[ns]\n",
       "Lat               float64\n",
       "Lon               float64\n",
       "Base               object\n",
       "weekday          category\n",
       "dtype: object"
      ]
     },
     "execution_count": 47,
     "metadata": {},
     "output_type": "execute_result"
    }
   ],
   "source": [
    "uber_april_weekday_cat = (uber_april_weekday >>\n",
    "                            mutate(weekday = X.weekday.astype('category')))\n",
    "uber_april_weekday_cat.dtypes"
   ]
  },
  {
   "cell_type": "markdown",
   "metadata": {
    "slideshow": {
     "slide_type": "slide"
    }
   },
   "source": [
    "## Let's plot the weekdays with `seaborn.catplot`"
   ]
  },
  {
   "cell_type": "code",
   "execution_count": 48,
   "metadata": {
    "slideshow": {
     "slide_type": "fragment"
    }
   },
   "outputs": [],
   "source": [
    "import pandas as pd\n",
    "import matplotlib.pyplot as plt\n",
    "import seaborn as sns"
   ]
  },
  {
   "cell_type": "code",
   "execution_count": 68,
   "metadata": {
    "slideshow": {
     "slide_type": "fragment"
    }
   },
   "outputs": [
    {
     "data": {
      "image/png": "[encoded data removed]",
      "text/plain": [
       "<Figure size 360x360 with 1 Axes>"
      ]
     },
     "metadata": {
      "needs_background": "light"
     },
     "output_type": "display_data"
    }
   ],
   "source": [
    "weekday_plot = sns.catplot( x=\"weekday\", \n",
    "                            kind=\"count\", \n",
    "                            palette=\"ch:.25\", \n",
    "                            data=uber_april_weekday_cat)\n",
    "# set title and rotate the long x labels\n",
    "_ = weekday_plot.ax.set_title(\"Uber rides by day of the week\")\n",
    "_ = weekday_plot.ax.set_xticklabels(weekday_plot.ax.get_xticklabels(),rotation=90)"
   ]
  },
  {
   "cell_type": "markdown",
   "metadata": {
    "slideshow": {
     "slide_type": "slide"
    }
   },
   "source": [
    "## Nominal by default\n",
    "\n",
    "* Setting `'category'` makes this nominal\n",
    "* Weekdays are actually ordinal\n",
    "* Notice the alphabetical order in the plot."
   ]
  },
  {
   "cell_type": "markdown",
   "metadata": {
    "slideshow": {
     "slide_type": "slide"
    }
   },
   "source": [
    "## Making the data ordinal\n",
    "\n",
    "1. Make a new category class with `CategoricalDtype`\n",
    "2. Use `astype` with your new dtype class"
   ]
  },
  {
   "cell_type": "markdown",
   "metadata": {
    "slideshow": {
     "slide_type": "slide"
    }
   },
   "source": [
    "#### Making an order weekday category"
   ]
  },
  {
   "cell_type": "code",
   "execution_count": 49,
   "metadata": {
    "scrolled": true,
    "slideshow": {
     "slide_type": "fragment"
    }
   },
   "outputs": [
    {
     "data": {
      "text/plain": [
       "['Monday', 'Tuesday', 'Wednesday', 'Thursday', 'Friday', 'Saturday', 'Sunday']"
      ]
     },
     "execution_count": 49,
     "metadata": {},
     "output_type": "execute_result"
    }
   ],
   "source": [
    "from calendar import day_name\n",
    "list(day_name)"
   ]
  },
  {
   "cell_type": "code",
   "execution_count": 50,
   "metadata": {
    "slideshow": {
     "slide_type": "fragment"
    }
   },
   "outputs": [
    {
     "data": {
      "text/plain": [
       "CategoricalDtype(categories=['Monday', 'Tuesday', 'Wednesday', 'Thursday', 'Friday',\n",
       "                  'Saturday', 'Sunday'],\n",
       "                 ordered=True)"
      ]
     },
     "execution_count": 50,
     "metadata": {},
     "output_type": "execute_result"
    }
   ],
   "source": [
    "weekday_categories = pd.CategoricalDtype(categories=list(day_name),\n",
    "                                     ordered=True)\n",
    "weekday_categories"
   ]
  },
  {
   "cell_type": "markdown",
   "metadata": {
    "slideshow": {
     "slide_type": "slide"
    }
   },
   "source": [
    "#### Changing to our custom type"
   ]
  },
  {
   "cell_type": "code",
   "execution_count": 51,
   "metadata": {
    "scrolled": false,
    "slideshow": {
     "slide_type": "fragment"
    }
   },
   "outputs": [
    {
     "data": {
      "text/plain": [
       "date       datetime64[ns]\n",
       "Lat               float64\n",
       "Lon               float64\n",
       "Base               object\n",
       "weekday          category\n",
       "dtype: object"
      ]
     },
     "execution_count": 51,
     "metadata": {},
     "output_type": "execute_result"
    }
   ],
   "source": [
    "uber_april_weekday_ord = (uber_april_weekday >>\n",
    "                            mutate(weekday = X.weekday.astype(weekday_categories)))\n",
    "uber_april_weekday_ord.dtypes"
   ]
  },
  {
   "cell_type": "markdown",
   "metadata": {
    "slideshow": {
     "slide_type": "slide"
    }
   },
   "source": [
    "## Plot the ordinal weekdays with `seaborn.catplot`"
   ]
  },
  {
   "cell_type": "code",
   "execution_count": 52,
   "metadata": {
    "slideshow": {
     "slide_type": "fragment"
    }
   },
   "outputs": [
    {
     "data": {
      "image/png": "[encoded data removed]",
      "text/plain": [
       "<Figure size 360x360 with 1 Axes>"
      ]
     },
     "metadata": {
      "needs_background": "light"
     },
     "output_type": "display_data"
    }
   ],
   "source": [
    "import seaborn as sns\n",
    "ordered_plot = sns.catplot( x=\"weekday\", \n",
    "                            kind=\"count\", \n",
    "                            palette=\"ch:.25\", \n",
    "                            data=uber_april_weekday_ord)\n",
    "# rotate the long x labels\n",
    "_ = ordered_plot.ax.set_title(\"Uber rides by day of the week\")\n",
    "_ = ordered_plot.ax.set_xticklabels(ordered_plot.ax.get_xticklabels(),rotation=90)"
   ]
  },
  {
   "cell_type": "markdown",
   "metadata": {
    "slideshow": {
     "slide_type": "slide"
    }
   },
   "source": [
    "## <font color=\"red\"> Exercise 4</font>\n",
    "\n",
    "Sometimes there is an advantage to treating calendar years as ordinal data.  Perform the following steps on the `Artist` data loaded above.\n",
    "\n",
    "**Tasks:**\n",
    "\n",
    "1. Remove the `0` from `BeginDate` and switch the type to `Int64`.\n",
    "2. Filter out the rows that are missing `BeginDate`\n",
    "3. Determine the minimum and maximum values of the filtered `BeginDate`s\n",
    "4. Create a new ordinal category class for this date range.\n",
    "5. Use `sns.catplot` to plot the distribution of the dates."
   ]
  },
  {
   "cell_type": "code",
   "execution_count": 36,
   "metadata": {
    "slideshow": {
     "slide_type": "fragment"
    }
   },
   "outputs": [],
   "source": [
    "# Your code here"
   ]
  },
  {
   "cell_type": "markdown",
   "metadata": {
    "slideshow": {
     "slide_type": "fragment"
    }
   },
   "source": [
    "> *Your answer here*"
   ]
  }
 ],
 "metadata": {
  "celltoolbar": "Slideshow",
  "kernelspec": {
   "display_name": "Python 3.7.6 64-bit ('base')",
   "language": "python",
   "name": "python3"
  },
  "language_info": {
   "codemirror_mode": {
    "name": "ipython",
    "version": 3
   },
   "file_extension": ".py",
   "mimetype": "text/x-python",
   "name": "python",
   "nbconvert_exporter": "python",
   "pygments_lexer": "ipython3",
   "version": "3.7.6"
  },
  "varInspector": {
   "cols": {
    "lenName": 16,
    "lenType": 16,
    "lenVar": 40
   },
   "kernels_config": {
    "python": {
     "delete_cmd_postfix": "",
     "delete_cmd_prefix": "del ",
     "library": "var_list.py",
     "varRefreshCmd": "print(var_dic_list())"
    },
    "r": {
     "delete_cmd_postfix": ") ",
     "delete_cmd_prefix": "rm(",
     "library": "var_list.r",
     "varRefreshCmd": "cat(var_dic_list()) "
    }
   },
   "types_to_exclude": [
    "module",
    "function",
    "builtin_function_or_method",
    "instance",
    "_Feature"
   ],
   "window_display": false
  },
  "vscode": {
   "interpreter": {
    "hash": "1cecd1b60648968f97f062c6fdadcaa4c6ce72455403d424b3bf48cbf5322438"
   }
  }
 },
 "nbformat": 4,
 "nbformat_minor": 2
}
